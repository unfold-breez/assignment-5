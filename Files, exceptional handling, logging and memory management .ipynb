{
  "metadata": {
    "kernelspec": {
      "name": "python",
      "display_name": "Python (Pyodide)",
      "language": "python"
    },
    "language_info": {
      "codemirror_mode": {
        "name": "python",
        "version": 3
      },
      "file_extension": ".py",
      "mimetype": "text/x-python",
      "name": "python",
      "nbconvert_exporter": "python",
      "pygments_lexer": "ipython3",
      "version": "3.8"
    }
  },
  "nbformat_minor": 5,
  "nbformat": 4,
  "cells": [
    {
      "id": "a95907e6-45aa-477e-b5d1-6bf1c0d1b48e",
      "cell_type": "markdown",
      "source": "Q1. What is the difference between interpreted and compiled languages ?\n\nANS - Interpreted vs Compiled Languages:\n\nCompiled Languages:\n\n\t* Source code is translated into machine code (binary) before execution\n\t* A compiler converts the entire program into executable files (.exe, .out, etc.)\n\t* Examples: C, C++, Rust, Go\n\t* Execution is faster since code is pre-translated\n\t* Errors are caught at compile time\n\t* Platform-specific executables are created\n\nInterpreted Languages:\n\n\t* Source code is executed line-by-line at runtime\n\t* An interpreter reads and executes code directly\n\t* Examples: Python, JavaScript, Ruby\n\t* Slower execution as translation happens during runtime\n\t* More flexibility - can execute code interactively\n\t* Platform-independent (as long as interpreter is available)\n\t* Errors are caught at runtime\n\nPython specifically:\n\n\t* Python is primarily interpreted but uses compilation to bytecode (.pyc files)\n\t* Source code → Bytecode → Python Virtual Machine (PVM)\n\t* This hybrid approach provides portability while maintaining reasonable performance\n    \nQ2 What is exception handling in Python ?\n\nANS - Exception handling in Python is a programming technique that allows you to handle runtime errors gracefully without crashing your program. It provides a way to catch and respond to exceptional circumstances that occur during program execution.\n\nKey Components of Exception Handling:\n\n\t1. try block: Contains code that might raise an exception\n\t2. except block: Handles specific exceptions when they occur\n\t3. else block: Executes when no exceptions are raised in the try block\n\t4. finally block: Always executes, regardless of whether an exception occurred\n\nBasic Syntax:\n\ntry:\n    # Code that might raise an exception\n    risky_operation()\nexcept SpecificException as e:\n    # Handle specific exception\n    print(f\"An error occurred: {e}\")\nexcept Exception as e:\n    # Handle any other exception\n    print(f\"Unexpected error: {e}\")\nelse:\n    # Executes if no exception occurs\n    print(\"Operation completed successfully\")\nfinally:\n    # Always executes\n    print(\"Cleanup operations\")\n\nCommon Built-in Exceptions:\n\n\t* ValueError: Invalid value for operation\n\t* TypeError: Wrong data type\n\t* FileNotFoundError: File doesn't exist\n\t* ZeroDivisionError: Division by zero\n\t* IndexError: List index out of range\n\t* KeyError: Dictionary key not found\n\nBenefits:\n\n\t* Prevents program crashes\n\t* Provides meaningful error messages\n\t* Allows graceful error recovery\n\t* Separates error handling from main logic\n\t* Improves code reliability and user experience\n\nExample:\n\ntry:\n    number = int(input(\"Enter a number: \"))\n    result = 10 / number\n    print(f\"Result: {result}\")\nexcept ValueError:\n    print(\"Please enter a valid number\")\nexcept ZeroDivisionError:\n    print(\"Cannot divide by zero\")\nexcept Exception as e:\n    print(f\"An unexpected error occurred: {e}\")\nelse:\n    print(\"Calculation completed successfully\")\nfinally:\n    print(\"Thank you for using the calculator\")\n\nException handling is essential for writing robust Python applications that can handle unexpected situations and provide a better user experience.\n\nQ3. What is the purpose of the finally block in exception handling ?\n\nANS - The purpose of the finally block in exception handling is to ensure that certain code executes regardless of whether an exception occurs or not. It provides a guaranteed execution mechanism for cleanup operations and resource management.\n\nKey purposes of the finally block:\n\n\t1. Guaranteed Execution: Code in the finally block always runs, whether:\n\n\n\t\t* No exception occurs\n\t\t* An exception is caught and handled\n\t\t* An exception is raised but not caught\n\t\t* A return statement is executed in try/except blocks\n\t2. Resource Cleanup: Essential for releasing resources like:\n\n\n\t\t* Closing files\n\t\t* Releasing database connections\n\t\t* Freeing network connections\n\t\t* Cleaning up temporary variables\n\t3. Cleanup Operations: Perform necessary cleanup tasks such as:\n\n\n\t\t* Logging completion status\n\t\t* Restoring system states\n\t\t* Finalizing operations\n\nSyntax:\n\ntry:\n    # Code that might raise an exception\n    risky_operation()\nexcept SomeException:\n    # Handle exception\n    handle_error()\nfinally:\n    # This always executes\n    cleanup_resources()\n\nExample:\n\nfile = None\ntry:\n    file = open(\"data.txt\", \"r\")\n    content = file.read()\n    process_data(content)\nexcept FileNotFoundError:\n    print(\"File not found\")\nexcept Exception as e:\n    print(f\"Error: {e}\")\nfinally:\n    # This ensures file is closed even if an error occurs\n    if file:\n        file.close()\n        print(\"File closed successfully\")\n\nImportant Notes:\n\n\t* The finally block executes even if there's a return statement in try/except\n\t* If an exception occurs in the finally block, it can override exceptions from try/except\n\t* finally is optional but highly recommended for resource management\n\nThe finally block is crucial for writing robust, reliable Python code that properly manages resources and ensures cleanup operations are performed regardless of program flow.\n\nQ4. What is logging in Python ?\n\nANS - Logging in Python is a built-in module that provides a flexible framework for recording events, messages, and diagnostic information during program execution. It's an essential tool for debugging, monitoring, and maintaining applications.\n\nKey Features of Python Logging:\n\n\t1. Event Recording: Captures and stores information about what happens during program execution\n\t2. Multiple Severity Levels: Organizes messages by importance (DEBUG, INFO, WARNING, ERROR, CRITICAL)\n\t3. Flexible Output: Can send logs to files, console, network, or other destinations\n\t4. Configurable Formatting: Customize how log messages appear\n\t5. Performance Efficient: Can be easily disabled in production without code changes\n\nBasic Logging Levels (in order of severity):\n\n\t* DEBUG: Detailed diagnostic information\n\t* INFO: General information about program execution\n\t* WARNING: Something unexpected happened, but program continues\n\t* ERROR: Serious problem occurred, some functionality failed\n\t* CRITICAL: Very serious error, program may not continue\n\nSimple Example:\n\nimport logging\n\n# Configure logging\nlogging.basicConfig(level=logging.INFO, format='%(asctime)s - %(levelname)s - %(message)s')\n\n# Create log messages\nlogging.debug(\"This is a debug message\")\nlogging.info(\"Application started successfully\")\nlogging.warning(\"This is a warning message\")\nlogging.error(\"An error occurred\")\nlogging.critical(\"Critical system failure\")\n\nAdvantages of Logging:\n\n\t* Better than print statements for debugging\n\t* Can be easily turned on/off\n\t* Provides timestamps and context\n\t* Supports different output destinations\n\t* Helps in production monitoring and troubleshooting\n\nLogging is crucial for professional Python development as it provides visibility into application behavior and helps identify issues in both development and production environments.\n\nQ5 What is the significance of the __del__ method in Python ?\n\nANS -  The __del__ method in Python is a special method (destructor) that is automatically called when an object is about to be destroyed by the garbage collector. It serves as the counterpart to __init__ (constructor) and has several important characteristics and use cases.\n\nKey Significance of __del__ method:\n\n\t1. Automatic Cleanup: Called automatically when an object's reference count drops to zero or when the program ends\n\n\t2. Resource Management: Used to release external resources like files, network connections, or database connections\n\n\t3. Memory Management: Helps in cleaning up resources that Python's garbage collector might not handle automatically\n\n\t4. Finalizer Functionality: Acts as a finalizer to perform last-minute cleanup operations\n\n\nSyntax:\n\nclass MyClass:\n    def __init__(self, name):\n        self.name = name\n        print(f\"Object {self.name} created\")\n    \n    def __del__(self):\n        print(f\"Object {self.name} is being destroyed\")\n\nExample with Resource Management:\n\nclass FileManager:\n    def __init__(self, filename):\n        self.filename = filename\n        self.file = open(filename, 'w')\n        print(f\"File {filename} opened\")\n    \n    def write_data(self, data):\n        self.file.write(data)\n    \n    def __del__(self):\n        if hasattr(self, 'file') and not self.file.closed:\n            self.file.close()\n            print(f\"File {self.filename} closed automatically\")\n\n# Usage\nfm = FileManager(\"test.txt\")\nfm.write_data(\"Hello World\")\ndel fm  # Triggers __del__ method\n\nImportant Considerations:\n\n\t1. Not Guaranteed Timing: __del__ is called when the object is garbage collected, but the timing is not guaranteed\n\n\t2. Circular References: Objects involved in circular references might not have __del__ called immediately\n\n\t3. Exception Handling: Exceptions in __del__ are ignored and only a warning is printed to stderr\n\n\t4. Better Alternatives: Context managers (with statement) and try/finally blocks are often preferred for resource management\n\n\nBest Practices:\n\n\t* Use __del__ sparingly and only when necessary\n\t* Prefer context managers for resource management\n\t* Don't rely on __del__ for critical cleanup operations\n\t* Keep __del__ methods simple and exception-free\n\nThe __del__ method provides a safety net for resource cleanup, but explicit resource management using context managers or try/finally blocks is generally more reliable and predictable.\n\nQ6 What is the difference between import and from ... import in Python ?\n\nANS - The difference between import and from ... import in Python:\n\n1. import statement:\n\n\t* Imports the entire module\n\t* You need to use the module name as a prefix to access its contents\n\t* Creates a namespace for the module\n\nimport math\nimport os\n\n# Usage - need to prefix with module name\nresult = math.sqrt(16)\ncurrent_dir = os.getcwd()\n\n2. from ... import statement:\n\n\t* Imports specific functions, classes, or variables from a module\n\t* Allows direct access without module prefix\n\t* Can import everything using * (not recommended)\n\nfrom math import sqrt, pi\nfrom os import getcwd\n\n# Usage - direct access without module prefix\nresult = sqrt(16)\ncurrent_dir = getcwd()\n\nKey Differences:\n\n| Aspect | `import` | `from ... import` |\n|--------|----------|-------------------|\n| **Namespace** | Creates module namespace | Imports into current namespace |\n| **Access** | Requires module.function() | Direct function() call |\n| **Memory** | Loads entire module | Loads only specified items |\n| **Clarity** | Clear module origin | Less clear where function comes from |\n| **Name conflicts** | Avoided by namespace | Possible conflicts with local names |\n\nExamples:\n\n# Method 1: import\nimport datetime\ntoday = datetime.date.today()\n\n# Method 2: from ... import\nfrom datetime import date\ntoday = date.today()\n\n# Method 3: from ... import with alias\nfrom datetime import date as dt\ntoday = dt.today()\n\n# Method 4: import with alias\nimport datetime as dt\ntoday = dt.date.today()\n\nBest Practices:\n\n\t* Use import for better code readability and avoiding name conflicts\n\t* Use from ... import for frequently used functions to reduce typing\n\t* Avoid from module import * as it pollutes the namespace\n\t* Use aliases when module names are long or to avoid conflicts \n\nQ7 How can you handle multiple exceptions in Python ?\n\nANS - How can you handle multiple exceptions in Python?\n\nPython provides several ways to handle multiple exceptions effectively:\n\n1. Multiple except blocks for different exception types:\n\ntry:\n    # Code that might raise different exceptions\n    num = int(input(\"Enter a number: \"))\n    result = 10 / num\n    my_list = [1, 2, 3]\n    print(my_list[num])\nexcept ValueError:\n    print(\"Invalid input! Please enter a valid number.\")\nexcept ZeroDivisionError:\n    print(\"Cannot divide by zero!\")\nexcept IndexError:\n    print(\"Index out of range!\")\n\n2. Handling multiple exceptions in a single except block:\n\ntry:\n    # Code that might raise exceptions\n    num = int(input(\"Enter a number: \"))\n    result = 10 / num\n    my_list = [1, 2, 3]\n    print(my_list[num])\nexcept (ValueError, ZeroDivisionError, IndexError) as e:\n    print(f\"An error occurred: {e}\")\n    print(f\"Error type: {type(e).__name__}\")\n\n3. Using a general exception handler:\n\ntry:\n    # Risky code\n    num = int(input(\"Enter a number: \"))\n    result = 10 / num\n    my_list = [1, 2, 3]\n    print(my_list[num])\nexcept ValueError:\n    print(\"Invalid input!\")\nexcept ZeroDivisionError:\n    print(\"Cannot divide by zero!\")\nexcept Exception as e:\n    print(f\"Unexpected error: {e}\")\n\n4. Nested try-except blocks:\n\ntry:\n    try:\n        num = int(input(\"Enter a number: \"))\n    except ValueError:\n        print(\"Invalid number format!\")\n        raise  # Re-raise the exception\n    \n    try:\n        result = 10 / num\n        print(f\"Result: {result}\")\n    except ZeroDivisionError:\n        print(\"Cannot divide by zero!\")\n        \nexcept Exception as e:\n    print(f\"Outer exception handler: {e}\")\n\n5. Complete exception handling structure:\n\ntry:\n    # Code that might raise exceptions\n    file_name = input(\"Enter file name: \")\n    with open(file_name, 'r') as file:\n        content = file.read()\n        number = int(content.strip())\n        result = 100 / number\n        print(f\"Result: {result}\")\n        \nexcept FileNotFoundError:\n    print(\"File not found!\")\nexcept PermissionError:\n    print(\"Permission denied to access the file!\")\nexcept ValueError:\n    print(\"File content is not a valid number!\")\nexcept ZeroDivisionError:\n    print(\"Cannot divide by zero!\")\nexcept Exception as e:\n    print(f\"Unexpected error: {type(e).__name__}: {e}\")\nelse:\n    print(\"Operation completed successfully!\")\nfinally:\n    print(\"Cleanup operations completed.\")\n\nBest Practices:\n\n\t* Handle specific exceptions first, then general ones\n\t* Use meaningful error messages\n\t* Log exceptions for debugging purposes\n\t* Don't catch exceptions you can't handle meaningfully\n\t* Use finally block for cleanup operations\n\t* Consider using else block for code that should run only if no exceptions occurred\n\n\nQ8 What is the purpose of the with statement when handling files in Python ?\n\nANS -  The purpose of the with statement when handling files in Python:\n\nThe with statement is used for context management and provides a clean, safe way to handle files. Its main purposes are:\n\n\t1. Automatic Resource Management: It automatically opens and closes files, ensuring proper cleanup even if an error occurs.\n\n\t2. Exception Safety: If an exception is raised while the file is open, the with statement guarantees the file will still be closed properly.\n\n\t3. Cleaner Code: It eliminates the need to manually call file.close() and reduces boilerplate code.\n\n\t4. Memory Efficiency: It prevents memory leaks by ensuring files are properly closed and resources are freed.\n\n\nExample:\n\n# Using with statement (recommended)\nwith open('example.txt', 'r') as file:\n    content = file.read()\n    print(content)\n# File is automatically closed here, even if an exception occurs\n\n# Without with statement (not recommended)\nfile = open('example.txt', 'r')\ntry:\n    content = file.read()\n    print(content)\nfinally:\n    file.close()  # Must manually close\n\nKey Benefits:\n\n\t* Guarantees file closure\n\t* Handles exceptions gracefully\n\t* Follows Python's principle of \"explicit is better than implicit\"\n\t* Implements the context manager protocol (__enter__ and __exit__ methods)\n\nThe with statement is considered a Python best practice for file handling because it makes code more reliable and easier to maintain.\n\n\nQ9 What is the difference between multithreading and multiprocessing?\n\nANS - \nWhat is the difference between multithreading and multiprocessing?\n\nANS - The difference between multithreading and multiprocessing in Python:\n\nMultithreading:\n\n\t* Uses multiple threads within a single process\n\t* Threads share the same memory space and resources\n\t* Limited by Python's Global Interpreter Lock (GIL)\n\t* Better for I/O-bound tasks (file operations, network requests)\n\t* Lower memory overhead\n\t* Faster communication between threads\n\nMultiprocessing:\n\n\t* Uses multiple separate processes\n\t* Each process has its own memory space\n\t* Not limited by GIL - true parallelism\n\t* Better for CPU-bound tasks (calculations, data processing)\n\t* Higher memory overhead\n\t* Inter-process communication is more complex\n\nKey Differences:\n\n| Aspect | Multithreading | Multiprocessing |\n|--------|----------------|-----------------|\n| Memory | Shared | Separate |\n| GIL Impact | Limited by GIL | Not affected by GIL |\n| Best for | I/O-bound tasks | CPU-bound tasks |\n| Overhead | Low | High |\n| Communication | Fast (shared memory) | Slower (IPC required) |\n\nExamples:\n\n# Multithreading example\nimport threading\nimport time\n\ndef worker(name):\n    print(f\"Worker {name} starting\")\n    time.sleep(2)\n    print(f\"Worker {name} finished\")\n\n# Create threads\nthreads = []\nfor i in range(3):\n    t = threading.Thread(target=worker, args=(i,))\n    threads.append(t)\n    t.start()\n\n# Wait for all threads to complete\nfor t in threads:\n    t.join()\n\n# Multiprocessing example\nimport multiprocessing\nimport time\n\ndef worker(name):\n    print(f\"Process {name} starting\")\n    time.sleep(2)\n    print(f\"Process {name} finished\")\n\nif __name__ == '__main__':\n    # Create processes\n    processes = []\n    for i in range(3):\n        p = multiprocessing.Process(target=worker, args=(i,))\n        processes.append(p)\n        p.start()\n    \n    # Wait for all processes to complete\n    for p in processes:\n        p.join()\n\nWhen to use:\n\n\t* Multithreading: File I/O, web scraping, API calls\n\t* Multiprocessing: Mathematical calculations, image processing, data analysis\n\n    \nQ10 What are the advantages of using logging in a program ?\n\nANS -  \nAdvantages of Using Logging in a Program:\n\n\t1. Debugging and Troubleshooting\n\n\n\t\t* Helps identify where errors occur in the code\n\t\t* Provides detailed information about program execution flow\n\t\t* Makes it easier to trace bugs and fix issues\n\t2. Monitoring Application Performance\n\n\n\t\t* Track how long operations take\n\t\t* Monitor resource usage and bottlenecks\n\t\t* Identify performance issues in production\n\t3. Audit Trail and Compliance\n\n\n\t\t* Keep records of user actions and system events\n\t\t* Meet regulatory requirements for data handling\n\t\t* Maintain accountability and security logs\n\t4. Different Log Levels\n\n\n\t\t* DEBUG: Detailed diagnostic information\n\t\t* INFO: General information about program execution\n\t\t* WARNING: Potential issues that don't stop execution\n\t\t* ERROR: Serious problems that caused failures\n\t\t* CRITICAL: Very serious errors that may stop the program\n\t5. Flexible Output Options\n\n\n\t\t* Log to files for permanent storage\n\t\t* Log to console for immediate feedback\n\t\t* Send logs to remote servers or databases\n\t\t* Configure different formats for different audiences\n\t6. Production Environment Benefits\n\n\n\t\t* Monitor applications without stopping them\n\t\t* Analyze issues that only occur in production\n\t\t* Collect data for improving system reliability\n\t7. Better Than Print Statements\n\n\n\t\t* Can be easily enabled/disabled\n\t\t* Formatted consistently\n\t\t* Categorized by severity\n\t\t* Can be filtered and searched efficiently\n\t8. Maintenance and Support\n\n\n\t\t* Helps support teams understand user issues\n\t\t* Provides historical data for trend analysis\n\t\t* Reduces time spent on troubleshooting\n        \nQ11 What is memory management in Python ?\n\nANS - Memory management in Python refers to how Python automatically handles the allocation and deallocation of memory for objects during program execution. Here are the key aspects:\n\n1. Automatic Memory Management\n\n\t* Python handles memory allocation automatically when you create objects\n\t* You don't need to manually allocate or deallocate memory like in C/C++\n\t* Memory is allocated from the heap when objects are created\n\n2. Reference Counting\n\n\t* Python keeps track of how many references point to each object\n\t* When an object's reference count drops to zero, it becomes eligible for garbage collection\n\t* This happens automatically when variables go out of scope or are reassigned\n\n3. Garbage Collection\n\n\t* Python has a built-in garbage collector that handles cyclic references\n\t* Uses a generational garbage collection algorithm\n\t* Automatically frees memory from objects that are no longer accessible\n\n4. Memory Pools\n\n\t* Python uses memory pools for efficient allocation of small objects\n\t* Reduces fragmentation and improves performance\n\t* Objects of similar sizes are grouped together\n\n5. Key Components:\n\nimport gc\nimport sys\n\n# Check reference count\nobj = [1, 2, 3]\nprint(sys.getrefcount(obj))  # Shows reference count\n\n# Manual garbage collection\ngc.collect()  # Force garbage collection\n\n# Check memory usage\nimport psutil\nimport os\nprocess = os.getpid()\nmemory_info = psutil.Process(process).memory_info()\nprint(f\"Memory usage: {memory_info.rss / 1024 / 1024:.2f} MB\")\n\n6. Best Practices:\n\n\t* Avoid circular references when possible\n\t* Use context managers (with statements) for resource management\n\t* Delete large objects explicitly when no longer needed\n\t* Use generators for large datasets to save memory\n\n7. Memory Optimization Techniques:\n\n\t* Use __slots__ in classes to reduce memory overhead\n\t* Use appropriate data structures (sets vs lists)\n\t* Implement lazy loading for large datasets\n\nQ12 What are the basic steps involved in exception handling in Python ?\n\nANS- The basic steps involved in exception handling in Python are:\n\n\t1. Try Block\n\n\n\t\t* Contains the code that might raise an exception\n\t\t* Python attempts to execute this code first\n\t\t* If no exception occurs, the except block is skipped\n\t2. Except Block\n\n\n\t\t* Contains code that handles specific exceptions\n\t\t* Executed only when an exception occurs in the try block\n\t\t* Can handle specific exception types or all exceptions\n\t3. Else Block (Optional)\n\n\n\t\t* Executed only if no exception occurs in the try block\n\t\t* Used for code that should run only when try block succeeds\n\t\t* Helps separate error handling from normal flow\n\t4. Finally Block (Optional)\n\n\n\t\t* Always executed, regardless of whether an exception occurred\n\t\t* Used for cleanup operations (closing files, releasing resources)\n\t\t* Runs even if an exception is not handled\n\t5. Basic Syntax Structure:\n\n\ntry:\n    # Code that might raise an exception\n    risky_operation()\nexcept SpecificException as e:\n    # Handle specific exception\n    print(f\"Specific error occurred: {e}\")\nexcept Exception as e:\n    # Handle any other exception\n    print(f\"An error occurred: {e}\")\nelse:\n    # Executed if no exception occurs\n    print(\"Operation successful\")\nfinally:\n    # Always executed\n    print(\"Cleanup operations\")\n\n\t1. Example Implementation:\n\ntry:\n    num = int(input(\"Enter a number: \"))\n    result = 10 / num\n    print(f\"Result: {result}\")\nexcept ValueError:\n    print(\"Invalid input! Please enter a valid number.\")\nexcept ZeroDivisionError:\n    print(\"Cannot divide by zero!\")\nexcept Exception as e:\n    print(f\"Unexpected error: {e}\")\nelse:\n    print(\"Division completed successfully\")\nfinally:\n    print(\"End of operation\")\n\n\t1. Key Points:\n\n\t\t* Multiple except blocks can handle different exception types\n\t\t* Use specific exceptions before general ones\n\t\t* The finally block is crucial for resource management\n\t\t* Exception handling prevents program crashes and provides graceful error recovery\n\n\nQ13 Why is memory management important in Python ?\n\nANS - \nMemory management is crucial in Python for several important reasons:\n\n1. Performance Optimization\n\n\t* Efficient memory usage leads to faster program execution\n\t* Prevents memory leaks that can slow down applications over time\n\t* Reduces memory fragmentation for better system performance\n\n2. Resource Conservation\n\n\t* Prevents excessive memory consumption that could affect other applications\n\t* Important for systems with limited memory resources\n\t* Enables running multiple Python programs simultaneously\n\n3. Application Stability\n\n\t* Prevents out-of-memory errors that can crash programs\n\t* Ensures long-running applications remain stable\n\t* Reduces system freezes and crashes\n\n4. Scalability\n\n\t* Critical for applications handling large datasets\n\t* Enables processing of bigger data without system limitations\n\t* Important for web applications serving multiple users\n\n5. Cost Efficiency\n\n\t* Reduces hardware requirements in production environments\n\t* Lower cloud computing costs due to reduced memory usage\n\t* Better resource utilization in server environments\n\n6. User Experience\n\n\t* Prevents application slowdowns and freezing\n\t* Ensures responsive user interfaces\n\t* Maintains consistent performance\n\n7. System Health\n\n\t* Prevents memory exhaustion that affects the entire system\n\t* Maintains optimal operating system performance\n\t* Reduces the need for system restarts\n\nExample of Poor vs Good Memory Management:\n\n# Poor memory management\ndef bad_memory_usage():\n    large_lists = []\n    for i in range(1000):\n        large_lists.append([0] * 1000000)  # Creates unnecessary large objects\n    return large_lists\n\n# Good memory management\ndef good_memory_usage():\n    for i in range(1000):\n        data = [0] * 1000000\n        process_data(data)\n        del data  # Explicitly free memory\n\n8. Production Environment Considerations\n\n\t* Critical for server applications running 24/7\n\t* Important for microservices and containerized applications\n\t* Essential for applications deployed on limited-resource environments\n\nQ14 What is the role of try and except in exception handling ?\n\nANS - The try and except blocks in Python serve as the foundation of exception handling, providing a structured way to handle errors gracefully. Here's their role:\n\n1. Error Prevention and Control\n\n\t* try block contains code that might raise an exception\n\t* except block defines how to handle specific exceptions when they occur\n\t* Prevents program crashes by catching and managing errors\n\n2. Graceful Error Handling\n\ntry:\n    result = 10 / 0  # This will raise ZeroDivisionError\nexcept ZeroDivisionError:\n    print(\"Cannot divide by zero!\")\n    result = 0\n\n3. Multiple Exception Handling\n\ntry:\n    file = open(\"nonexistent.txt\", \"r\")\n    data = file.read()\nexcept FileNotFoundError:\n    print(\"File not found!\")\nexcept PermissionError:\n    print(\"Permission denied!\")\nexcept Exception as e:\n    print(f\"An unexpected error occurred: {e}\")\n\n4. Program Flow Control\n\n\t* Allows programs to continue execution even when errors occur\n\t* Provides alternative execution paths when exceptions are encountered\n\t* Maintains application stability\n\n5. User Experience Enhancement\n\n\t* Displays meaningful error messages instead of cryptic system errors\n\t* Allows for retry mechanisms and fallback options\n\t* Keeps applications running smoothly\n\n6. Resource Management\n\n\t* Enables proper cleanup of resources even when errors occur\n\t* Works with finally block for guaranteed cleanup\n\t* Prevents resource leaks\n\n7. Debugging and Logging\n\ntry:\n    risky_operation()\nexcept Exception as e:\n    logging.error(f\"Operation failed: {e}\")\n    # Handle the error appropriately\n\nKey Benefits:\n\n\t* Robustness: Makes programs more reliable and stable\n\t* Maintainability: Centralizes error handling logic\n\t* User-Friendly: Provides better error messages for users\n\t* Control: Allows selective handling of different error types\n\n\nQ15 How does Python's garbage collection system work ?\n\nANS - Python's garbage collection system works through an automatic memory management process that reclaims memory occupied by objects that are no longer reachable or referenced. Here's how it operates:\n\n1. Reference Counting (Primary Mechanism)\n\t* Every object in Python has a reference count that tracks how many references point to it\n\t* When an object's reference count drops to zero, it's immediately deallocated\n\t* This handles most memory cleanup automatically\n\n# Example of reference counting\na = [1, 2, 3]  # Reference count = 1\nb = a          # Reference count = 2\ndel a          # Reference count = 1\ndel b          # Reference count = 0, object is deallocated\n\n2. Cyclic Garbage Collection\n\t* Handles circular references that reference counting can't resolve\n\t* Uses a generational garbage collector with three generations (0, 1, 2)\n\t* Objects start in generation 0 and get promoted if they survive collection cycles\n\n# Example of circular reference\nclass Node:\n    def __init__(self, value):\n        self.value = value\n        self.parent = None\n        self.children = []\n\n# Creating circular reference\nparent = Node(\"parent\")\nchild = Node(\"child\")\nparent.children.append(child)\nchild.parent = parent  # Circular reference created\n\n3. Generation-Based Collection\n\t* Generation 0: New objects, collected most frequently\n\t* Generation 1: Objects that survived one collection cycle\n\t* Generation 2: Long-lived objects, collected least frequently\n\n4. Collection Triggers\n\t* Automatic triggering based on allocation/deallocation thresholds\n\t* Manual triggering using the gc module\n\t* Collection occurs when generation thresholds are exceeded\n\nimport gc\n\n# Manual garbage collection\ngc.collect()\n\n# Check collection statistics\nprint(gc.get_stats())\n\n# Disable/enable automatic collection\ngc.disable()\ngc.enable()\n\n5. Weak References\n\t* Allow referencing objects without affecting their reference count\n\t* Useful for avoiding circular references in certain design patterns\n\nimport weakref\n\nclass MyClass:\n    def __init__(self, name):\n        self.name = name\n\nobj = MyClass(\"test\")\nweak_ref = weakref.ref(obj)  # Doesn't increase reference count\n\n6. Memory Pools and Arenas\n\t* Python uses memory pools for small objects (< 512 bytes)\n\t* Reduces fragmentation and improves allocation speed\n\t* Arenas manage larger memory blocks\n\n7. Garbage Collection Process\n\t1. Mark Phase: Identifies reachable objects starting from root references\n\t2. Sweep Phase: Deallocates unreachable objects\n\t3. Promotion: Surviving objects move to the next generation\n\n8. Key Characteristics\n\t* Automatic: No manual memory management required\n\t* Generational: Optimized for typical object lifetimes\n\t* Incremental: Spreads collection work across multiple cycles\n\t* Configurable: Thresholds and behavior can be adjusted\n\n9. Performance Considerations\nimport gc\n\n# Monitor garbage collection\ndef monitor_gc():\n    print(f\"Collections: {gc.get_count()}\")\n    print(f\"Thresholds: {gc.get_threshold()}\")\n\n# Optimize for specific use cases\ngc.set_threshold(700, 10, 10)  # Adjust collection frequency\n\n10. Best Practices\n\t* Avoid circular references when possible\n\t* Use context managers for resource cleanup\n\t* Consider weak references for observer patterns\n\t* Monitor memory usage in long-running applications\n\t* Use __del__ methods carefully as they can interfere with garbage collection\n\nThe garbage collection system ensures efficient memory usage while maintaining Python's ease of use by handling memory management automatically behind the scenes.\n\n\nQ16 What is the purpose of the else block in exception handling ?\n\nANS - The else block in exception handling serves a specific and important purpose: it executes only when no exception occurs in the corresponding try block.\n\nPurpose and Benefits:\n\t1. Clean Separation of Logic: The else block allows you to separate the code that might raise exceptions from the code that should only run when everything goes smoothly.\n\n\t2. Improved Readability: It makes the code's intent clearer by explicitly showing what should happen in the success case.\n\n\t3. Prevents Unintended Exception Catching: Code in the else block is not protected by the except handlers, which means if an exception occurs there, it won't be accidentally caught by the same exception handlers.\n\n\nSyntax:\ntry:\n    # Code that might raise an exception\n    risky_operation()\nexcept SomeException:\n    # Handle the exception\n    handle_error()\nelse:\n    # This runs only if no exception occurred in try block\n    success_operation()\nfinally:\n    # This always runs (optional)\n    cleanup()\n\nPractical Example:\ndef read_and_process_file(filename):\n    try:\n        file = open(filename, 'r')\n    except FileNotFoundError:\n        print(f\"Error: File '{filename}' not found\")\n        return None\n    else:\n        # This only runs if file was opened successfully\n        content = file.read()\n        file.close()\n        print(\"File read successfully\")\n        return content.upper()\n\n# Usage\nresult = read_and_process_file(\"data.txt\")\nif result:\n    print(f\"Processed content: {result}\")\n\nKey Points:\n\t* The else block is optional\n\t* It executes only if no exception was raised in the try block\n\t* If an exception occurs in the else block, it will not be caught by the preceding except handlers\n\t* It runs before any finally block\n\t* It's particularly useful for code that should only execute when the risky operation succeeds\n\n\nQ17 What are the common logging levels in Python ?\n\nANS - Common Logging Levels in Python\n\nPython's logging module provides several predefined logging levels that indicate the severity and importance of log messages. Here are the standard logging levels in order of increasing severity:\n\n1. DEBUG (Level 10)\n\n\t* Lowest level\n\t* Used for detailed diagnostic information\n\t* Typically only of interest when diagnosing problems\n\t* Usually disabled in production\n\n2. INFO (Level 20)\n\n\t* General informational messages\n\t* Confirms that things are working as expected\n\t* Used to track the general flow of the application\n\n3. WARNING (Level 30)\n\n\t* Indicates something unexpected happened or potential problems\n\t* The software is still working as expected\n\t* Default logging level\n\n4. ERROR (Level 40)\n\n\t* Serious problems that prevented a function from executing\n\t* The software was unable to perform some operation\n\t* More serious than warnings\n\n5. CRITICAL (Level 50)\n\n\t* Highest level\n\t* Very serious errors that may cause the program to terminate\n\t* Indicates the program may not be able to continue running\n\nUsage Example:\n\nimport logging\n\n# Configure logging\nlogging.basicConfig(level=logging.DEBUG, format='%(levelname)s: %(message)s')\n\n# Using different logging levels\nlogging.debug(\"This is a debug message\")\nlogging.info(\"This is an info message\")\nlogging.warning(\"This is a warning message\")\nlogging.error(\"This is an error message\")\nlogging.critical(\"This is a critical message\")\n\nSetting Log Levels:\n\n# Set different threshold levels\nlogging.getLogger().setLevel(logging.WARNING)  # Only WARNING and above will be shown\nlogging.getLogger().setLevel(logging.INFO)     # INFO and above will be shown\n\nKey Points:\n\n\t* Each level has a numeric value that determines its priority\n\t* When you set a logging level, only messages at that level or higher will be displayed\n\t* You can create custom levels if needed, though it's rarely necessary\n\t* The default level is WARNING, meaning DEBUG and INFO messages are not shown unless explicitly configured\n\nQ18 What is the difference between os.fork() and multiprocessing in Python ?\n\nANS - \n\nThe main differences between os.fork() and the multiprocessing module in Python are:\n\n1. Platform Compatibility:\n\n\t* os.fork(): Only available on Unix-like systems (Linux, macOS). Not available on Windows.\n\t* multiprocessing: Cross-platform solution that works on Windows, Linux, macOS, and other operating systems.\n\n2. Level of Abstraction:\n\n\t* os.fork(): Low-level system call that directly creates a copy of the current process\n\t* multiprocessing: High-level module that provides a more user-friendly interface for parallel processing\n\n3. Process Creation Method:\n\n\t* os.fork(): Creates an exact copy of the parent process, including memory space\n\t* multiprocessing: Can use different methods (fork, spawn, forkserver) depending on the platform\n\n4. Memory Sharing:\n\n\t* os.fork(): Child process initially shares memory with parent (copy-on-write)\n\t* multiprocessing: Provides controlled memory sharing through shared objects and queues\n\n5. Communication:\n\n\t* os.fork(): Basic inter-process communication through pipes, signals, or shared memory\n\t* multiprocessing: Built-in communication mechanisms like Queue, Pipe, Manager, etc.\n\n6. Resource Management:\n\n\t* os.fork(): Manual process management and cleanup required\n\t* multiprocessing: Automatic process lifecycle management and cleanup\n\nExample Comparison:\n\n# Using os.fork() (Unix only)\nimport os\nimport sys\n\npid = os.fork()\nif pid == 0:\n    # Child process\n    print(\"Child process\")\nelse:\n    # Parent process\n    print(\"Parent process\")\n    os.waitpid(pid, 0)  # Wait for child\n\n# Using multiprocessing (Cross-platform)\nimport multiprocessing\n\ndef worker():\n    print(\"Worker process\")\n\nif __name__ == \"__main__\":\n    process = multiprocessing.Process(target=worker)\n    process.start()\n    process.join()  # Wait for process to complete\n\nWhen to Use:\n\n\t* Use os.fork() when you need low-level control and are working only on Unix systems\n\t* Use multiprocessing for portable, high-level parallel processing with better abstractions and built-in communication tools\n\n\nQ19 What is the importance of closing a file in Python ?\n\nANS - The importance of closing a file in Python:\n\n\t1. Resource Management:\n\n\n\t\t* Files are system resources that consume memory and file descriptors\n\t\t* Each open file uses a file descriptor, and systems have limits on how many can be open simultaneously\n\t\t* Closing files frees up these resources for other processes\n\t2. Data Integrity:\n\n\n\t\t* Ensures all buffered data is written to the file\n\t\t* Prevents data loss if the program terminates unexpectedly\n\t\t* Guarantees that all changes are saved to disk\n\t3. Memory Efficiency:\n\n\n\t\t* Releases memory buffers associated with the file\n\t\t* Prevents memory leaks in long-running applications\n\t\t* Keeps memory usage optimized\n\t4. Platform Compatibility:\n\n\n\t\t* Some operating systems have strict limits on open file handles\n\t\t* Prevents \"too many open files\" errors\n\t\t* Ensures consistent behavior across different platforms\n\t5. Best Practices and Clean Code:\n\n\n\t\t* Following proper file handling conventions\n\t\t* Makes code more maintainable and professional\n\t\t* Prevents potential issues in production environments\n\nMethods to Ensure Files are Closed:\n\n# Method 1: Manual closing (not recommended)\nfile = open(\"example.txt\", \"r\")\ncontent = file.read()\nfile.close()  # Must remember to close\n\n# Method 2: Using try-finally block\nfile = open(\"example.txt\", \"r\")\ntry:\n    content = file.read()\nfinally:\n    file.close()  # Ensures file is closed even if error occurs\n\n# Method 3: Using context manager (recommended)\nwith open(\"example.txt\", \"r\") as file:\n    content = file.read()\n# File is automatically closed when exiting the with block\n\nConsequences of Not Closing Files:\n\n\t* Resource exhaustion leading to program crashes\n\t* Data corruption or loss\n\t* Performance degradation\n\t* System instability in extreme cases\n\t* Difficulty debugging file-related issues\n\nQ20 What is the difference between file.read() and file.readline() in Python ?\n\nANS - ANS - The difference between file.read() and file.readline() in Python:\n\n1. file.read():\n\n\t* Reads the entire file content at once\n\t* Returns all remaining content as a single string\n\t* Can optionally take a size parameter to read specific number of characters\n\t* Moves the file pointer to the end of the file (or specified position)\n\n2. file.readline():\n\n\t* Reads only one line at a time\n\t* Returns a single line as a string (including the newline character '\\n')\n\t* Moves the file pointer to the beginning of the next line\n\t* Returns an empty string when end of file is reached\n\nExamples:\n\n# Using file.read()\nwith open(\"example.txt\", \"r\") as file:\n    content = file.read()  # Reads entire file\n    print(content)  # Prints all content at once\n\n# Using file.read() with size parameter\nwith open(\"example.txt\", \"r\") as file:\n    content = file.read(10)  # Reads first 10 characters\n    print(content)\n\n# Using file.readline()\nwith open(\"example.txt\", \"r\") as file:\n    line1 = file.readline()  # Reads first line\n    line2 = file.readline()  # Reads second line\n    print(line1)  # Prints first line\n    print(line2)  # Prints second line\n\n# Reading all lines using readline()\nwith open(\"example.txt\", \"r\") as file:\n    while True:\n        line = file.readline()\n        if not line:  # Empty string means end of file\n            break\n        print(line.strip())  # strip() removes newline character\n\nKey Differences:\n\n| Aspect | file.read() | file.readline() |\n|--------|-------------|-----------------|\n| **Amount of data** | Entire file or specified bytes | One line at a time |\n| **Memory usage** | High for large files | Low, efficient for large files |\n| **Return value** | Single string with all content | Single string with one line |\n| **File pointer** | Moves to end (or specified position) | Moves to next line |\n| **Best use case** | Small files, need all content | Large files, line-by-line processing |\n\nWhen to use which:\n\n\t* Use read() when you need to process the entire file content at once\n\t* Use readline() when processing large files line by line to save memory\n\t* Use readline() when you need to process files sequentially without loading everything into memory\n\n\n\nQ21 What is the logging module in Python used for ?\n\nANS - The logging module in Python is used for:\n\nPrimary Purpose:\nThe logging module provides a flexible framework for emitting log messages from Python programs. It's used to track events that happen when software runs, helping developers understand program behavior and diagnose issues.\n\nKey Uses:\n\n\t1. Debugging and Troubleshooting:\n\n\n\t\t* Track program execution flow\n\t\t* Identify where errors occur\n\t\t* Monitor variable values and program state\n\t2. Error and Exception Tracking:\n\n\n\t\t* Record exceptions and error details\n\t\t* Capture stack traces for debugging\n\t\t* Log error severity levels\n\t3. Application Monitoring:\n\n\n\t\t* Monitor application performance\n\t\t* Track user activities\n\t\t* Record system resource usage\n\t4. Audit Trails:\n\n\n\t\t* Keep records of important events\n\t\t* Track user actions for security\n\t\t* Maintain compliance logs\n\nLogging Levels:\n\n\t* DEBUG: Detailed diagnostic information\n\t* INFO: General information about program execution\n\t* WARNING: Something unexpected happened but program continues\n\t* ERROR: Serious problem occurred\n\t* CRITICAL: Very serious error, program may stop\n\nBasic Example:\n\nimport logging\n\n# Configure logging\nlogging.basicConfig(level=logging.INFO, \n                   format='%(asctime)s - %(levelname)s - %(message)s')\n\n# Use different log levels\nlogging.debug(\"This is a debug message\")\nlogging.info(\"Application started successfully\")\nlogging.warning(\"This is a warning message\")\nlogging.error(\"An error occurred\")\nlogging.critical(\"Critical error - application stopping\")\n\nAdvanced Features:\n\n\t* Multiple loggers for different modules\n\t* Different output destinations (file, console, network)\n\t* Log rotation and archiving\n\t* Custom formatting and filtering\n\t* Handler configuration for complex logging setups\n\nBenefits:\n\n\t* Better than print statements for production code\n\t* Configurable output levels and destinations\n\t* Thread-safe logging operations\n\t* Standardized logging format across applications\n\t* Easy to disable/enable different log levels\n\nThe logging module is essential for professional Python development as it provides visibility into application behavior without cluttering code with print statements.\n\nQ22 What is the os module in Python used for in file handling?\n\nANS - The os module in Python is a powerful built-in module that provides a way to interact with the operating system, particularly useful for file and directory operations. Here's how it's used in file handling:\n\nKey Functions for File Handling:\n\n\t1. Path Operations:\n\n\n\t\t* os.path.join() - Safely join file paths across different operating systems\n\t\t* os.path.exists() - Check if a file or directory exists\n\t\t* os.path.isfile() - Check if path is a file\n\t\t* os.path.isdir() - Check if path is a directory\n\t\t* os.path.basename() - Get filename from path\n\t\t* os.path.dirname() - Get directory name from path\n\t2. Directory Operations:\n\n\n\t\t* os.getcwd() - Get current working directory\n\t\t* os.chdir() - Change current directory\n\t\t* os.mkdir() - Create a directory\n\t\t* os.makedirs() - Create directories recursively\n\t\t* os.rmdir() - Remove directory\n\t\t* os.removedirs() - Remove directories recursively\n\t\t* os.listdir() - List directory contents\n\t3. File Operations:\n\n\n\t\t* os.remove() - Delete a file\n\t\t* os.rename() - Rename a file or directory\n\t\t* os.stat() - Get file statistics (size, modification time, etc.)\n\nExample Usage:\n\nimport os\n\n# Get current directory\ncurrent_dir = os.getcwd()\nprint(f\"Current directory: {current_dir}\")\n\n# Create a safe file path\nfile_path = os.path.join(current_dir, \"data\", \"example.txt\")\n\n# Check if file exists\nif os.path.exists(file_path):\n    print(\"File exists\")\n    # Get file size\n    file_size = os.path.getsize(file_path)\n    print(f\"File size: {file_size} bytes\")\n\n# List files in directory\nfiles = os.listdir(\".\")\nfor file in files:\n    if os.path.isfile(file):\n        print(f\"File: {file}\")\n    elif os.path.isdir(file):\n        print(f\"Directory: {file}\")\n\n# Create directory if it doesn't exist\ndata_dir = \"data\"\nif not os.path.exists(data_dir):\n    os.mkdir(data_dir)\n\nBenefits:\n\n\t* Cross-platform compatibility - Works on Windows, macOS, and Linux\n\t* Safe path handling - Handles different path separators automatically\n\t* File system operations - Comprehensive file and directory management\n\t* Error handling - Raises appropriate exceptions for invalid operations\n\t* Integration with file I/O - Works seamlessly with Python's file handling functions\n\nThe os module is essential for robust file handling as it provides the foundation for interacting with the file system in a platform-independent way.The os module in Python is a powerful built-in module that provides a way to interact with the operating system, particularly useful for file and directory operations. Here's how it's used in file handling:\n\nKey Functions for File Handling:\n\n\t1. Path Operations:\n\n\n\t\t* os.path.join() - Safely join file paths across different operating systems\n\t\t* os.path.exists() - Check if a file or directory exists\n\t\t* os.path.isfile() - Check if path is a file\n\t\t* os.path.isdir() - Check if path is a directory\n\t\t* os.path.basename() - Get filename from path\n\t\t* os.path.dirname() - Get directory name from path\n\t2. Directory Operations:\n\n\n\t\t* os.getcwd() - Get current working directory\n\t\t* os.chdir() - Change current directory\n\t\t* os.mkdir() - Create a directory\n\t\t* os.makedirs() - Create directories recursively\n\t\t* os.rmdir() - Remove directory\n\t\t* os.removedirs() - Remove directories recursively\n\t\t* os.listdir() - List directory contents\n\t3. File Operations:\n\n\n\t\t* os.remove() - Delete a file\n\t\t* os.rename() - Rename a file or directory\n\t\t* os.stat() - Get file statistics (size, modification time, etc.)\n\nExample Usage:\n\nimport os\n\n# Get current directory\ncurrent_dir = os.getcwd()\nprint(f\"Current directory: {current_dir}\")\n\n# Create a safe file path\nfile_path = os.path.join(current_dir, \"data\", \"example.txt\")\n\n# Check if file exists\nif os.path.exists(file_path):\n    print(\"File exists\")\n    # Get file size\n    file_size = os.path.getsize(file_path)\n    print(f\"File size: {file_size} bytes\")\n\n# List files in directory\nfiles = os.listdir(\".\")\nfor file in files:\n    if os.path.isfile(file):\n        print(f\"File: {file}\")\n    elif os.path.isdir(file):\n        print(f\"Directory: {file}\")\n\n# Create directory if it doesn't exist\ndata_dir = \"data\"\nif not os.path.exists(data_dir):\n    os.mkdir(data_dir)\n\nBenefits:\n\n\t* Cross-platform compatibility - Works on Windows, macOS, and Linux\n\t* Safe path handling - Handles different path separators automatically\n\t* File system operations - Comprehensive file and directory management\n\t* Error handling - Raises appropriate exceptions for invalid operations\n\t* Integration with file I/O - Works seamlessly with Python's file handling functions\n\nThe os module is essential for robust file handling as it provides the foundation for interacting with the file system in a platform-independent way.\n\n\nQ23 What are the challenges associated with memory management in Python ?\n\nANS - \nChallenges Associated with Memory Management in Python:\n\n1. Automatic Memory Management Overhead\n\n\t* Python's garbage collection can introduce performance overhead\n\t* Automatic allocation/deallocation may not always be optimal for specific use cases\n\t* Less control over when memory is freed compared to manual memory management\n\n2. Memory Leaks\n\n\t* Circular references can prevent garbage collection\n\t* Objects that reference each other may not be automatically freed\n\t* Long-running applications can accumulate memory over time\n\n3. Reference Counting Issues\n\n\t* Python uses reference counting which can be inefficient for complex data structures\n\t* Circular references require additional cycle detection\n\t* Reference counting overhead on every assignment/deletion\n\n4. Large Object Handling\n\n\t* Loading large datasets into memory can cause performance issues\n\t* Python objects have overhead (each object stores type information, reference count, etc.)\n\t* Memory fragmentation with frequent allocation/deallocation of large objects\n\n5. Global Interpreter Lock (GIL) Impact\n\n\t* GIL can affect memory access patterns in multi-threaded applications\n\t* Limits true parallelism which can impact memory-intensive operations\n\n6. Memory Profiling Complexity\n\n\t* Difficult to track exact memory usage due to Python's abstraction layers\n\t* Hidden memory consumption by internal data structures\n\t* Complex debugging of memory-related performance issues\n\n7. Immutable Object Creation\n\n\t* Strings, tuples, and numbers create new objects on modification\n\t* Can lead to excessive memory usage in loops or frequent operations\n\t* Temporary object creation during operations\n\n8. Third-party Library Memory Management\n\n\t* External libraries (C extensions) may have different memory management patterns\n\t* Memory allocated by C libraries may not be tracked by Python's garbage collector\n\t* Potential for memory leaks in poorly written extensions\n\nSolutions and Best Practices:\n\n\t* Use memory profilers (memory_profiler, tracemalloc)\n\t* Implement proper cleanup in context managers\n\t* Use generators for large datasets\n\t* Be aware of circular references\n\t* Consider using slots for memory-efficient classes\n\t* Use weak references when appropriate\n\nQ24  How do you raise an exception manually in Python ?\n\nANS -  \nIn Python, you can raise exceptions manually using the raise statement. This allows you to trigger exceptions intentionally when certain conditions are met or when you want to handle specific error scenarios.\n\nBasic Syntax:\n\nraise ExceptionType(\"Error message\")\n\nCommon Ways to Raise Exceptions:\n\n\t1. Raising Built-in Exceptions:\n\n# Raise a ValueError\nraise ValueError(\"Invalid input provided\")\n\n# Raise a TypeError\nraise TypeError(\"Expected string, got integer\")\n\n# Raise a custom message with any built-in exception\nraise FileNotFoundError(\"The specified file does not exist\")\n\n\t1. Re-raising Current Exception:\n\ntry:\n    # Some operation that might fail\n    result = 10 / 0\nexcept ZeroDivisionError:\n    print(\"Logging the error...\")\n    raise  # Re-raises the current exception\n\n\t1. Raising Custom Exceptions:\n\n# Define a custom exception class\nclass CustomError(Exception):\n    pass\n\n# Raise the custom exception\nraise CustomError(\"This is a custom error message\")\n\n\t1. Conditional Exception Raising:\n\ndef validate_age(age):\n    if age < 0:\n        raise ValueError(\"Age cannot be negative\")\n    elif age > 150:\n        raise ValueError(\"Age seems unrealistic\")\n    return True\n\n# Usage\ntry:\n    validate_age(-5)\nexcept ValueError as e:\n    print(f\"Error: {e}\")\n\n\t1. Raising Exception with Traceback:\n\nimport sys\n\ntry:\n    # Some operation\n    1/0\nexcept:\n    exc_type, exc_value, exc_traceback = sys.exc_info()\n    raise exc_type(exc_value).with_traceback(exc_traceback)\n\nBest Practices:\n\n\t* Always provide meaningful error messages\n\t* Use appropriate built-in exception types when possible\n\t* Create custom exceptions for application-specific errors\n\t* Include relevant context information in error messages\n\t* Use raise without arguments to re-raise the current exception in except blocks\n    \nQ25 Why is it important to use multithreading in certain applications?\n\nANS - Multithreading is important in certain applications for several key reasons:\n\n1. Improved Performance and Efficiency\n\n\t* Allows multiple tasks to execute concurrently, making better use of system resources\n\t* Enables parallel processing of independent operations\n\t* Reduces overall execution time for CPU-intensive tasks\n\n2. Enhanced User Experience\n\n\t* Prevents applications from becoming unresponsive during long-running operations\n\t* Keeps user interfaces reactive while background tasks are running\n\t* Allows users to continue interacting with the application while data is being processed\n\n3. Better Resource Utilization\n\n\t* Takes advantage of multi-core processors by distributing work across cores\n\t* Maximizes CPU utilization instead of leaving cores idle\n\t* Improves system throughput by handling multiple requests simultaneously\n\n4. Handling I/O Operations\n\n\t* Prevents blocking when waiting for file reads, network requests, or database queries\n\t* Allows other threads to continue working while some threads wait for I/O completion\n\t* Essential for applications dealing with network communications or file processing\n\n5. Scalability\n\n\t* Enables applications to handle multiple client requests simultaneously (web servers)\n\t* Supports concurrent user sessions in multi-user applications\n\t* Allows applications to scale with increasing workload demands\n\n6. Background Processing\n\n\t* Enables background tasks like automatic saving, data synchronization, or cleanup operations\n\t* Allows periodic maintenance tasks without interrupting main application flow\n\t* Supports real-time data processing and monitoring\n\nCommon Use Cases:\n\n\t* Web servers handling multiple client requests\n\t* GUI applications performing background calculations\n\t* Data processing applications with parallel algorithms\n\t* Real-time systems requiring concurrent data streams\n\t* Applications with time-sensitive operations\n\nImportant Considerations:\n\n\t* Thread safety and synchronization must be carefully managed\n\t* Overhead of context switching should be considered\n\t* Not all problems benefit from multithreading (some are inherently sequential)\n\t* Debugging multithreaded applications can be more complex",
      "metadata": {}
    },
    {
      "id": "de533726-a262-425e-8de9-0faaedbed724",
      "cell_type": "markdown",
      "source": "                                                    Practical Questions",
      "metadata": {}
    },
    {
      "id": "5a7b2e92-7f98-4334-af8d-6f3c9958458d",
      "cell_type": "markdown",
      "source": "Q1. How can you open a file for writing in Python and write a string to it ?",
      "metadata": {}
    },
    {
      "id": "99d12d2c-4011-453f-b4ac-e44f2ea6abdf",
      "cell_type": "code",
      "source": "How can you open a file for writing in Python and write a string to itTo open a file for writing in Python and write a string to it, you can use the open() function with the appropriate mode. Here are the most common approaches:\n\nMethod 1: Basic file writing\n\n# Open file for writing (overwrites existing content)\nfile = open(\"example.txt\", \"w\")\nfile.write(\"Hello, World!\")\nfile.close()\n\nMethod 2: Using context manager (Recommended)\n\n# Using 'with' statement - automatically closes the file\nwith open(\"example.txt\", \"w\") as file:\n    file.write(\"Hello, World!\")\n\nMethod 3: Append mode\n\n# Open file for appending (adds to existing content)\nwith open(\"example.txt\", \"a\") as file:\n    file.write(\"Additional text\")\n\nFile modes explained:\n\n\t* \"w\" - Write mode (overwrites existing file or creates new one)\n\t* \"a\" - Append mode (adds to end of existing file or creates new one)\n\t* \"x\" - Exclusive creation (fails if file already exists)\n\nWriting multiple lines:\n\nwith open(\"example.txt\", \"w\") as file:\n    file.write(\"Line 1\\n\")\n    file.write(\"Line 2\\n\")\n    file.writelines([\"Line 3\\n\", \"Line 4\\n\"])\n\nBest practices:\n\n\t1. Always use context managers (with statement) for automatic file closing\n\t2. Handle exceptions when working with files\n\t3. Specify encoding when working with text files: open(\"file.txt\", \"w\", encoding=\"utf-8\")",
      "metadata": {
        "trusted": true
      },
      "outputs": [],
      "execution_count": null
    },
    {
      "id": "e0c32b36-b0e0-4c73-870b-aa05392445b4",
      "cell_type": "markdown",
      "source": "Q2. Write a Python program to read the contents of a file and print each line.",
      "metadata": {}
    },
    {
      "id": "295c04c8-cfb5-4188-9259-df0574022754",
      "cell_type": "code",
      "source": "print(\"Q2. Write a Python program to read the contents of a file and print each line.\\n\")\n\n# Method 1: Basic file reading with line numbers\nprint(\"Method 1: Reading file with line numbers\")\ntry:\n    with open(\"sample.txt\", \"r\") as file:\n        line_number = 1\n        for line in file:\n            print(f\"{line_number}: {line.strip()}\")\n            line_number += 1\nexcept FileNotFoundError:\n    print(\"Error: File 'sample.txt' not found!\")\nprint()\n\n# Method 2: Using enumerate for automatic line numbering\nprint(\"Method 2: Using enumerate for line numbering\")\ntry:\n    with open(\"sample.txt\", \"r\") as file:\n        for line_num, line in enumerate(file, 1):\n            print(f\"Line {line_num}: {line.rstrip()}\")\nexcept FileNotFoundError:\n    print(\"Error: File 'sample.txt' not found!\")\nprint()\n\n# Method 3: Reading all lines at once\nprint(\"Method 3: Reading all lines at once\")\ntry:\n    with open(\"sample.txt\", \"r\") as file:\n        lines = file.readlines()\n        for i, line in enumerate(lines, 1):\n            print(f\"{i}: {line.strip()}\")\nexcept FileNotFoundError:\n    print(\"Error: File 'sample.txt' not found!\")\nprint()\n\n# Method 4: Simple line-by-line reading\nprint(\"Method 4: Simple line-by-line reading\")\ntry:\n    with open(\"sample.txt\", \"r\") as file:\n        for line in file:\n            print(line.rstrip())  # rstrip() removes trailing newline\nexcept FileNotFoundError:\n    print(\"Error: File 'sample.txt' not found!\")\nprint()\n\n# Method 5: Function to read any file\nprint(\"Method 5: Reusable function\")\ndef read_and_print_file(filename):\n    \"\"\"\n    Function to read a file and print each line with line numbers\n    \"\"\"\n    try:\n        with open(filename, \"r\", encoding=\"utf-8\") as file:\n            print(f\"Contents of '{filename}':\")\n            print(\"-\" * 30)\n            for line_num, line in enumerate(file, 1):\n                print(f\"{line_num:2d}: {line.rstrip()}\")\n            print(\"-\" * 30)\n    except FileNotFoundError:\n        print(f\"Error: File '{filename}' not found!\")\n    except PermissionError:\n        print(f\"Error: Permission denied to read '{filename}'\")\n    except Exception as e:\n        print(f\"Error reading file: {e}\")\n\n# Test the function\nread_and_print_file(\"sample.txt\")",
      "metadata": {
        "trusted": true
      },
      "outputs": [
        {
          "name": "stdout",
          "output_type": "stream",
          "text": "Q2. Write a Python program to read the contents of a file and print each line.\n\nMethod 1: Reading file with line numbers\n1: Hello World!\n2: This is line 2\n3: Python file handling\n4: End of file\n\nMethod 2: Using enumerate for line numbering\nLine 1: Hello World!\nLine 2: This is line 2\nLine 3: Python file handling\nLine 4: End of file\n\nMethod 3: Reading all lines at once\n1: Hello World!\n2: This is line 2\n3: Python file handling\n4: End of file\n\nMethod 4: Simple line-by-line reading\nHello World!\nThis is line 2\nPython file handling\nEnd of file\n\nMethod 5: Reusable function\nContents of 'sample.txt':\n------------------------------\n 1: Hello World!\n 2: This is line 2\n 3: Python file handling\n 4: End of file\n------------------------------\n"
        }
      ],
      "execution_count": 4
    },
    {
      "id": "3dbfbf3e-4e32-4307-abb6-069f7c21fecc",
      "cell_type": "markdown",
      "source": "Q3. How would you handle a case where the file doesn't exist while trying to open it for reading ?",
      "metadata": {}
    },
    {
      "id": "869fd0c4-d054-4779-8cfa-78d1e97aeea3",
      "cell_type": "code",
      "source": "import os\nfrom pathlib import Path\n\nprint(\"Q3. How would you handle a case where the file doesn't exist while trying to open it for reading?\\n\")\n\n# Method 1: Basic try-except with FileNotFoundError\nprint(\"Method 1: Basic Exception Handling\")\ntry:\n    with open(\"nonexistent_file.txt\", \"r\") as file:\n        content = file.read()\n        print(content)\nexcept FileNotFoundError:\n    print(\"Error: The file does not exist!\")\nprint()\n\n# Method 2: Multiple exception handling\nprint(\"Method 2: Comprehensive Exception Handling\")\ndef read_file_safe(filename):\n    try:\n        with open(filename, \"r\") as file:\n            return file.read()\n    except FileNotFoundError:\n        return f\"Error: File '{filename}' not found!\"\n    except PermissionError:\n        return f\"Error: Permission denied to access '{filename}'\"\n    except Exception as e:\n        return f\"Unexpected error: {e}\"\n\nresult = read_file_safe(\"missing_file.txt\")\nprint(result)\nprint()\n\n# Method 3: Check file existence before opening\nprint(\"Method 3: Check File Existence First\")\nfilename = \"test_file.txt\"\nif os.path.exists(filename):\n    with open(filename, \"r\") as file:\n        print(file.read())\nelse:\n    print(f\"File '{filename}' does not exist!\")\nprint()\n\n# Method 4: Using pathlib (modern approach)\nprint(\"Method 4: Using Pathlib\")\nfile_path = Path(\"another_missing_file.txt\")\nif file_path.exists():\n    print(file_path.read_text())\nelse:\n    print(f\"File '{file_path}' does not exist!\")\nprint()\n\n# Method 5: Create file if it doesn't exist\nprint(\"Method 5: Create File if Missing\")\ndef read_or_create_file(filename):\n    try:\n        with open(filename, \"r\") as file:\n            return file.read()\n    except FileNotFoundError:\n        print(f\"File '{filename}' not found. Creating it...\")\n        with open(filename, \"w\") as file:\n            default_content = \"This file was created automatically.\"\n            file.write(default_content)\n        return default_content\n\ncontent = read_or_create_file(\"auto_created.txt\")\nprint(f\"File content: {content}\")\nprint()\n\n# Method 6: User-friendly function with multiple options\nprint(\"Method 6: Complete File Handler Function\")\ndef handle_file_reading(filename, create_if_missing=False, default_content=\"\"):\n    \"\"\"\n    Safely read a file with multiple error handling options\n    \"\"\"\n    try:\n        with open(filename, \"r\") as file:\n            content = file.read()\n            print(f\"Successfully read '{filename}':\")\n            print(content)\n            return content\n    \n    except FileNotFoundError:\n        print(f\"FileNotFoundError: '{filename}' does not exist!\")\n        \n        if create_if_missing:\n            print(f\"Creating '{filename}' with default content...\")\n            with open(filename, \"w\") as file:\n                file.write(default_content)\n            print(\"File created successfully!\")\n            return default_content\n        else:\n            print(\"Set create_if_missing=True to auto-create the file.\")\n            return None\n    \n    except PermissionError:\n        print(f\"PermissionError: Cannot access '{filename}' - check permissions!\")\n        return None\n    \n    except IsADirectoryError:\n        print(f\"IsADirectoryError: '{filename}' is a directory, not a file!\")\n        return None\n    \n    except Exception as e:\n        print(f\"Unexpected error occurred: {type(e).__name__}: {e}\")\n        return None\n\n# Test the comprehensive function\nprint(\"Testing with non-existent file:\")\nhandle_file_reading(\"test1.txt\")\n\nprint(\"\\nTesting with auto-creation:\")\nhandle_file_reading(\"test2.txt\", create_if_missing=True, default_content=\"Hello from auto-created file!\")\n\nprint(\"\\nTesting reading the created file:\")\nhandle_file_reading(\"test2.txt\")",
      "metadata": {
        "trusted": true
      },
      "outputs": [
        {
          "name": "stdout",
          "output_type": "stream",
          "text": "Q3. How would you handle a case where the file doesn't exist while trying to open it for reading?\n\nMethod 1: Basic Exception Handling\nError: The file does not exist!\n\nMethod 2: Comprehensive Exception Handling\nError: File 'missing_file.txt' not found!\n\nMethod 3: Check File Existence First\nFile 'test_file.txt' does not exist!\n\nMethod 4: Using Pathlib\nFile 'another_missing_file.txt' does not exist!\n\nMethod 5: Create File if Missing\nFile 'auto_created.txt' not found. Creating it...\nFile content: This file was created automatically.\n\nMethod 6: Complete File Handler Function\nTesting with non-existent file:\nFileNotFoundError: 'test1.txt' does not exist!\nSet create_if_missing=True to auto-create the file.\n\nTesting with auto-creation:\nFileNotFoundError: 'test2.txt' does not exist!\nCreating 'test2.txt' with default content...\nFile created successfully!\n\nTesting reading the created file:\nSuccessfully read 'test2.txt':\nHello from auto-created file!\n"
        },
        {
          "execution_count": 2,
          "output_type": "execute_result",
          "data": {
            "text/plain": "'Hello from auto-created file!'"
          },
          "metadata": {}
        }
      ],
      "execution_count": 2
    },
    {
      "id": "16c4367f-9bb1-4581-ab74-6a641ba73ee1",
      "cell_type": "markdown",
      "source": "Q4 Write a Python script that reads from one file and writes its content to another file?",
      "metadata": {}
    },
    {
      "id": "87bcad5a-2f46-4262-9856-ab8b3319b7ef",
      "cell_type": "code",
      "source": "# Q4: Write a Python script that reads from one file and writes its content to another file\n\nimport os\nfrom pathlib import Path\n\nprint(\"Q4. Writing a script to copy file content from one file to another\")\nprint(\"=\" * 60)\n\n# Method 1: Basic file copy with exception handling\nprint(\"Method 1: Basic File Copy\")\n\ndef copy_file_basic(source_file, destination_file):\n    \"\"\"\n    Basic function to copy content from source to destination file\n    \"\"\"\n    try:\n        # Read from source file\n        with open(source_file, 'r') as source:\n            content = source.read()\n        \n        # Write to destination file\n        with open(destination_file, 'w') as destination:\n            destination.write(content)\n        \n        print(f\"Successfully copied content from '{source_file}' to '{destination_file}'\")\n        return True\n        \n    except FileNotFoundError as e:\n        print(f\"Error: Source file '{source_file}' not found!\")\n        return False\n    except PermissionError as e:\n        print(f\"Error: Permission denied - {e}\")\n        return False\n    except Exception as e:\n        print(f\"Unexpected error: {e}\")\n        return False\n\n# Test basic copy\ncopy_file_basic(\"sample.txt\", \"copy_of_sample.txt\")\nprint()\n\n# Method 2: Advanced file copy with encoding and options\nprint(\"Method 2: Advanced File Copy with Options\")\n\ndef copy_file_advanced(source_file, destination_file, encoding='utf-8', \n                      append_mode=False, create_backup=False):\n    \"\"\"\n    Advanced file copy function with multiple options\n    \"\"\"\n    try:\n        # Create backup if requested\n        if create_backup and os.path.exists(destination_file):\n            backup_name = f\"{destination_file}.backup\"\n            copy_file_basic(destination_file, backup_name)\n            print(f\"Backup created: {backup_name}\")\n        \n        # Determine write mode\n        write_mode = 'a' if append_mode else 'w'\n        \n        # Copy file content\n        with open(source_file, 'r', encoding=encoding) as source:\n            with open(destination_file, write_mode, encoding=encoding) as destination:\n                content = source.read()\n                destination.write(content)\n        \n        print(f\"Advanced copy completed: '{source_file}' → '{destination_file}'\")\n        print(f\"Mode: {'Append' if append_mode else 'Overwrite'}, Encoding: {encoding}\")\n        return True\n        \n    except UnicodeDecodeError as e:\n        print(f\"Encoding error: {e}\")\n        return False\n    except Exception as e:\n        print(f\"Error during advanced copy: {e}\")\n        return False\n\n# Test advanced copy\ncopy_file_advanced(\"sample.txt\", \"advanced_copy.txt\", create_backup=True)\nprint()\n\n# Method 3: Copy with file size and line-by-line processing\nprint(\"Method 3: Line-by-Line Copy with Statistics\")\n\ndef copy_file_with_stats(source_file, destination_file):\n    \"\"\"\n    Copy file line by line and provide statistics\n    \"\"\"\n    try:\n        line_count = 0\n        char_count = 0\n        \n        with open(source_file, 'r') as source:\n            with open(destination_file, 'w') as destination:\n                for line in source:\n                    destination.write(line)\n                    line_count += 1\n                    char_count += len(line)\n        \n        print(f\"File copy completed with statistics:\")\n        print(f\"  Source: {source_file}\")\n        print(f\"  Destination: {destination_file}\")\n        print(f\"  Lines copied: {line_count}\")\n        print(f\"  Characters copied: {char_count}\")\n        return True\n        \n    except Exception as e:\n        print(f\"Error during statistical copy: {e}\")\n        return False\n\n# Test statistical copy\ncopy_file_with_stats(\"sample.txt\", \"stats_copy.txt\")\nprint()\n\n# Method 4: Binary file copy (for any file type)\nprint(\"Method 4: Binary File Copy (Universal)\")\n\ndef copy_file_binary(source_file, destination_file, chunk_size=1024):\n    \"\"\"\n    Copy any type of file using binary mode\n    \"\"\"\n    try:\n        with open(source_file, 'rb') as source:\n            with open(destination_file, 'wb') as destination:\n                while True:\n                    chunk = source.read(chunk_size)\n                    if not chunk:\n                        break\n                    destination.write(chunk)\n        \n        # Get file sizes\n        source_size = os.path.getsize(source_file)\n        dest_size = os.path.getsize(destination_file)\n        \n        print(f\"Binary copy completed:\")\n        print(f\"  Source size: {source_size} bytes\")\n        print(f\"  Destination size: {dest_size} bytes\")\n        print(f\"  Copy successful: {source_size == dest_size}\")\n        return True\n        \n    except Exception as e:\n        print(f\"Error during binary copy: {e}\")\n        return False\n\n# Test binary copy\ncopy_file_binary(\"sample.txt\", \"binary_copy.txt\")\nprint()\n\n# Method 5: Complete file copy utility with validation\nprint(\"Method 5: Complete File Copy Utility\")\n\ndef file_copy_utility(source_file, destination_file, \n                     overwrite=True, verify_copy=True):\n    \"\"\"\n    Complete file copy utility with validation\n    \"\"\"\n    try:\n        # Check if source exists\n        if not os.path.exists(source_file):\n            print(f\"Error: Source file '{source_file}' does not exist!\")\n            return False\n        \n        # Check if destination exists and handle overwrite\n        if os.path.exists(destination_file) and not overwrite:\n            print(f\"Error: Destination '{destination_file}' exists and overwrite=False\")\n            return False\n        \n        # Perform the copy\n        with open(source_file, 'r') as source:\n            content = source.read()\n            \n        with open(destination_file, 'w') as destination:\n            destination.write(content)\n        \n        # Verify copy if requested\n        if verify_copy:\n            with open(source_file, 'r') as source:\n                original_content = source.read()\n            with open(destination_file, 'r') as destination:\n                copied_content = destination.read()\n            \n            if original_content == copied_content:\n                print(f\"✓ File copy verified successful!\")\n            else:\n                print(f\"⚠ Warning: Copy verification failed!\")\n                return False\n        \n        print(f\"File copy utility completed: '{source_file}' → '{destination_file}'\")\n        return True\n        \n    except Exception as e:\n        print(f\"Error in file copy utility: {e}\")\n        return False\n\n# Test complete utility\nfile_copy_utility(\"sample.txt\", \"utility_copy.txt\")\nprint()\n\n# Method 6: Multiple file copy with progress\nprint(\"Method 6: Batch File Copy\")\n\ndef copy_multiple_files(file_pairs):\n    \"\"\"\n    Copy multiple files at once\n    file_pairs: list of tuples [(source1, dest1), (source2, dest2), ...]\n    \"\"\"\n    successful_copies = 0\n    failed_copies = 0\n    \n    print(f\"Starting batch copy of {len(file_pairs)} files...\")\n    \n    for i, (source, destination) in enumerate(file_pairs, 1):\n        print(f\"[{i}/{len(file_pairs)}] Copying '{source}' → '{destination}'\")\n        \n        if copy_file_basic(source, destination):\n            successful_copies += 1\n        else:\n            failed_copies += 1\n    \n    print(f\"\\nBatch copy completed:\")\n    print(f\"  Successful: {successful_copies}\")\n    print(f\"  Failed: {failed_copies}\")\n    \n    return successful_copies, failed_copies\n\n# Test batch copy\nfile_pairs = [\n    (\"sample.txt\", \"batch_copy1.txt\"),\n    (\"sample.txt\", \"batch_copy2.txt\")\n]\ncopy_multiple_files(file_pairs)\nprint()\n\n# Method 7: Interactive file copy\nprint(\"Method 7: User-Friendly File Copy Function\")\n\ndef interactive_file_copy():\n    \"\"\"\n    Interactive function that prompts for file names\n    \"\"\"\n    print(\"Interactive File Copy Tool\")\n    print(\"-\" * 25)\n    \n    source = input(\"Enter source file name: \").strip()\n    if not source:\n        print(\"No source file specified!\")\n        return\n    \n    destination = input(\"Enter destination file name: \").strip()\n    if not destination:\n        print(\"No destination file specified!\")\n        return\n    \n    # Check if destination exists\n    if os.path.exists(destination):\n        overwrite = input(f\"'{destination}' exists. Overwrite? (y/n): \").lower()\n        if overwrite != 'y':\n            print(\"Copy cancelled.\")\n            return\n    \n    # Perform copy\n    success = copy_file_basic(source, destination)\n    if success:\n        print(\"File copy completed successfully! ✓\")\n    else:\n        print(\"File copy failed! ✗\")\n\n# Uncomment the next line to test interactive copy\n# interactive_file_copy()\n\nprint(\"All file copy methods demonstrated!\")",
      "metadata": {
        "trusted": true
      },
      "outputs": [
        {
          "name": "stdout",
          "output_type": "stream",
          "text": "Q4. Writing a script to copy file content from one file to another\n============================================================\nMethod 1: Basic File Copy\nSuccessfully copied content from 'sample.txt' to 'copy_of_sample.txt'\n\nMethod 2: Advanced File Copy with Options\nAdvanced copy completed: 'sample.txt' → 'advanced_copy.txt'\nMode: Overwrite, Encoding: utf-8\n\nMethod 3: Line-by-Line Copy with Statistics\nFile copy completed with statistics:\n  Source: sample.txt\n  Destination: stats_copy.txt\n  Lines copied: 4\n  Characters copied: 60\n\nMethod 4: Binary File Copy (Universal)\nBinary copy completed:\n  Source size: 60 bytes\n  Destination size: 60 bytes\n  Copy successful: True\n\nMethod 5: Complete File Copy Utility\n✓ File copy verified successful!\nFile copy utility completed: 'sample.txt' → 'utility_copy.txt'\n\nMethod 6: Batch File Copy\nStarting batch copy of 2 files...\n[1/2] Copying 'sample.txt' → 'batch_copy1.txt'\nSuccessfully copied content from 'sample.txt' to 'batch_copy1.txt'\n[2/2] Copying 'sample.txt' → 'batch_copy2.txt'\nSuccessfully copied content from 'sample.txt' to 'batch_copy2.txt'\n\nBatch copy completed:\n  Successful: 2\n  Failed: 0\n\nMethod 7: User-Friendly File Copy Function\nAll file copy methods demonstrated!\n"
        }
      ],
      "execution_count": 5
    },
    {
      "id": "3f5c1d9a-0738-4acc-9d5b-c5219d6791bb",
      "cell_type": "markdown",
      "source": "Q5. How would you catch and handle division by zero error in Python?",
      "metadata": {}
    },
    {
      "id": "cb2a30b7-7973-4d88-b3ca-ec0f8f2806a8",
      "cell_type": "code",
      "source": "# Corrected code for handling division by zero error in Python\n\ntry:\n    numerator = 10\n    denominator = 0\n    result = numerator / denominator\n    print(\"Result:\", result)\nexcept ZeroDivisionError:\n    print(\"Error: Division by zero is not allowed.\")",
      "metadata": {
        "trusted": true
      },
      "outputs": [
        {
          "name": "stdout",
          "output_type": "stream",
          "text": "Error: Division by zero is not allowed.\n"
        }
      ],
      "execution_count": 14
    },
    {
      "id": "4ae6e9fe-e803-4281-8d31-983fa72d54bc",
      "cell_type": "markdown",
      "source": "Q6. Write a Python program that logs an error message to a log file when a division by zero exception occurs.",
      "metadata": {}
    },
    {
      "id": "7c569e10-22f7-4be2-94fc-f0e0bf7ff321",
      "cell_type": "code",
      "source": "import logging\n\n# Configure logging\nlogging.basicConfig(filename='error_log.log', level=logging.ERROR, \n                    format='%(asctime)s - %(levelname)s - %(message)s')\n\ntry:\n    numerator = 10\n    denominator = 0\n    result = numerator / denominator\n    print(\"Result:\", result)\nexcept ZeroDivisionError as e:\n    logging.error(\"Division by zero error occurred: %s\", e)\n    print(\"Error: Division by zero is not allowed. Check the log file for details.\")",
      "metadata": {
        "trusted": true
      },
      "outputs": [
        {
          "name": "stdout",
          "output_type": "stream",
          "text": "Error: Division by zero is not allowed. Check the log file for details.\n"
        }
      ],
      "execution_count": 15
    },
    {
      "id": "7e7a767a-25f8-48a2-80d7-237dec1fd9c3",
      "cell_type": "markdown",
      "source": "Q7. How do you log information at different levels (INFO, ERROR, WARNING) in Python using the logging module",
      "metadata": {}
    },
    {
      "id": "5f88c032-a338-4ec0-82c7-fc376ef1d732",
      "cell_type": "code",
      "source": "import logging\n\n# Configure the logging settings\nlogging.basicConfig(\n    filename='app.log',  # Log file name\n    level=logging.DEBUG,  # Set the logging level to DEBUG or higher\n    format='%(asctime)s - %(levelname)s - %(message)s'  # Log message format\n)\n\n# Logging messages at different levels\nlogging.debug(\"This is a DEBUG message, useful for debugging.\")\nlogging.info(\"This is an INFO message, generally for informational purposes.\")\nlogging.warning(\"This is a WARNING message, indicating a potential issue.\")\nlogging.error(\"This is an ERROR message, indicating that an error has occurred.\")\nlogging.critical(\"This is a CRITICAL message, indicating a severe error.\")",
      "metadata": {
        "trusted": true
      },
      "outputs": [],
      "execution_count": 22
    },
    {
      "id": "1c437c5a-0883-4db6-8de3-fa6a4f8725d9",
      "cell_type": "markdown",
      "source": "Q8. Write a program to handle a file opening error using exception handling",
      "metadata": {}
    },
    {
      "id": "ff76a3a0-dde0-47d4-b671-b1e6707b659d",
      "cell_type": "code",
      "source": "try:\n    # Attempt to open a file\n    file = open(\"non_existent_file.txt\", \"r\")\n    content = file.read()\n    print(content)\n    file.close()\nexcept FileNotFoundError as e:\n    # Handle the file not found error\n    print(\"Error: The file you are trying to open does not exist.\")\n    print(f\"Details: {e}\")\nexcept Exception as e:\n    # Handle any other exceptions\n    print(\"An unexpected error occurred.\")\n    print(f\"Details: {e}\")",
      "metadata": {
        "trusted": true
      },
      "outputs": [
        {
          "name": "stdout",
          "output_type": "stream",
          "text": "Error: The file you are trying to open does not exist.\nDetails: [Errno 44] No such file or directory: 'non_existent_file.txt'\n"
        }
      ],
      "execution_count": 26
    },
    {
      "id": "18aa30b7-7e64-4b2b-8a34-9cd180e667b7",
      "cell_type": "markdown",
      "source": "Q9. How can you read a file line by line and store its content in a list in Python",
      "metadata": {}
    },
    {
      "id": "1e81dbdf-ce9f-46e9-a091-56a37ef5d8a5",
      "cell_type": "code",
      "source": "# Open the file in read mode\ntry:\n    with open(\"filename.txt\", \"r\") as file:\n        # Read all lines and store them in a list\n        lines = file.readlines()\n        \n    # Strip newline characters and print the list\n    lines = [line.strip() for line in lines]\n    print(lines)\nexcept FileNotFoundError:\n    print(\"Error: The file does not exist.\")\nexcept Exception as e:\n    print(f\"An unexpected error occurred: {e}\")",
      "metadata": {
        "trusted": true
      },
      "outputs": [
        {
          "name": "stdout",
          "output_type": "stream",
          "text": "Error: The file does not exist.\n"
        }
      ],
      "execution_count": 27
    },
    {
      "id": "196d3eb4-b9c0-4b8d-bb54-c62c598da096",
      "cell_type": "markdown",
      "source": "Q10. How can you append data to an existing file in Python?",
      "metadata": {}
    },
    {
      "id": "c83c25b9-6dc7-4ece-ba61-8929f8c92a36",
      "cell_type": "code",
      "source": "# Open the file in append mode\ntry:\n    with open(\"filename.txt\", \"a\") as file:\n        # Append data to the file\n        file.write(\"\\nThis is the new data being appended.\")\n        print(\"Data appended successfully.\")\nexcept FileNotFoundError:\n    print(\"Error: The file does not exist.\")\nexcept Exception as e:\n    print(f\"An unexpected error occurred: {e}\")",
      "metadata": {
        "trusted": true
      },
      "outputs": [
        {
          "name": "stdout",
          "output_type": "stream",
          "text": "Data appended successfully.\n"
        }
      ],
      "execution_count": 28
    },
    {
      "id": "6eb1b535-f04f-4ebe-8271-7746c0e955c5",
      "cell_type": "markdown",
      "source": "Q11. Write a Python program that uses a try-except block to handle an error when attempting to access a\ndictionary key that doesn't exist",
      "metadata": {}
    },
    {
      "id": "6a172ca4-3d60-446b-988a-f8281e9ac77b",
      "cell_type": "code",
      "source": "# Define a dictionary\nmy_dict = {\"name\": \"Alice\", \"age\": 25}\n\n# Try to access a key that might not exist\ntry:\n    value = my_dict[\"address\"]\n    print(f\"The value is: {value}\")\nexcept KeyError:\n    print(\"Error: The specified key does not exist in the dictionary.\")",
      "metadata": {
        "trusted": true
      },
      "outputs": [
        {
          "name": "stdout",
          "output_type": "stream",
          "text": "Error: The specified key does not exist in the dictionary.\n"
        }
      ],
      "execution_count": 29
    },
    {
      "id": "0da4b5c2-42b3-43d0-ab58-5ba1aa260f24",
      "cell_type": "markdown",
      "source": "Q11. Write a program that demonstrates using multiple except blocks to handle different types of exceptions",
      "metadata": {}
    },
    {
      "id": "461b6e26-d33b-4f76-a794-5bd467d43c7f",
      "cell_type": "code",
      "source": "# Demonstrating multiple except blocks to handle different exceptions\n\ntry:\n    # Attempting to divide by zero\n    result = 10 / 0\n    print(f\"Result: {result}\")\n    \n    # Attempting to access an invalid index in a list\n    my_list = [1, 2, 3]\n    print(my_list[5])\n    \n    # Attempting to access a non-existent dictionary key\n    my_dict = {\"name\": \"Alice\", \"age\": 25}\n    print(my_dict[\"address\"])\n\nexcept ZeroDivisionError:\n    print(\"Error: Division by zero is not allowed.\")\n\nexcept IndexError:\n    print(\"Error: List index out of range.\")\n\nexcept KeyError:\n    print(\"Error: The specified key does not exist in the dictionary.\")\n\nexcept Exception as e:\n    print(f\"An unexpected error occurred: {e}\")",
      "metadata": {
        "trusted": true
      },
      "outputs": [
        {
          "name": "stdout",
          "output_type": "stream",
          "text": "Error: Division by zero is not allowed.\n"
        }
      ],
      "execution_count": 30
    },
    {
      "id": "5fdbebf3-58d4-4ff5-98dd-6d03ba4cbeae",
      "cell_type": "markdown",
      "source": "Q12. How would you check if a file exists before attempting to read it in Python",
      "metadata": {}
    },
    {
      "id": "bcdf226d-debc-4b45-80eb-372eff551bc1",
      "cell_type": "code",
      "source": "import os\nfrom pathlib import Path\n\nfile_path = \"example.txt\"\n\n# Using os.path.exists()\nif os.path.exists(file_path):\n    with open(file_path, 'r') as file:\n        content = file.read()\n        print(\"Using os.path.exists():\")\n        print(content)\nelse:\n    print(f\"The file '{file_path}' does not exist (checked using os.path.exists()).\")\n\n# Using pathlib.Path\nfile_path_obj = Path(file_path)\n\nif file_path_obj.exists():\n    with file_path_obj.open('r') as file:\n        content = file.read()\n        print(\"\\nUsing pathlib.Path:\")\n        print(content)\nelse:\n    print(f\"The file '{file_path}' does not exist (checked using pathlib.Path).\")",
      "metadata": {
        "trusted": true
      },
      "outputs": [
        {
          "name": "stdout",
          "output_type": "stream",
          "text": "The file 'example.txt' does not exist (checked using os.path.exists()).\nThe file 'example.txt' does not exist (checked using pathlib.Path).\n"
        }
      ],
      "execution_count": 31
    },
    {
      "id": "2932fdaf-d670-46a4-a025-52925e831bd7",
      "cell_type": "markdown",
      "source": "Q14. Write a program that uses the logging module to log both informational and error messages.",
      "metadata": {}
    },
    {
      "id": "ef1822c4-72b0-4935-bd8d-64fb7edee43b",
      "cell_type": "code",
      "source": "import logging\n\n# Configure the logging module\nlogging.basicConfig(\n    level=logging.DEBUG,\n    format='%(asctime)s - %(levelname)s - %(message)s',\n    filename='app.log',\n    filemode='w'  # Overwrite the log file each time the program runs\n)\n\n# Log informational messages\nlogging.info(\"This is an informational message.\")\nlogging.debug(\"This is a debug message for detailed troubleshooting.\")\n\ntry:\n    # Simulate a block of code that may raise an exception\n    result = 10 / 0  # This will raise a ZeroDivisionError\nexcept ZeroDivisionError as e:\n    # Log the error message\n    logging.error(\"An error occurred: Division by zero.\", exc_info=True)\n\n# Log a warning message\nlogging.warning(\"This is a warning message.\")\n\n# Log a critical message\nlogging.critical(\"This is a critical message indicating a severe issue.\")",
      "metadata": {
        "trusted": true
      },
      "outputs": [],
      "execution_count": 33
    },
    {
      "id": "19665c7d-6403-42c8-8804-07ae67f2884e",
      "cell_type": "markdown",
      "source": "Q15. Write a Python program that prints the content of a file and handles the case when the file is empty",
      "metadata": {}
    },
    {
      "id": "832dcc31-41d6-4834-8503-b1e0164fe9c6",
      "cell_type": "code",
      "source": "def print_file_content(file_path):\n    try:\n        # Open the file in read mode\n        with open(file_path, 'r') as file:\n            content = file.read()\n            \n            # Check if the file is empty\n            if not content:\n                print(\"The file is empty.\")\n            else:\n                print(\"File Content:\")\n                print(content)\n    except FileNotFoundError:\n        print(f\"Error: The file '{file_path}' does not exist.\")\n    except Exception as e:\n        print(f\"An unexpected error occurred: {e}\")\n\n# Example usage\nfile_path = \"filename.txt\"  # Replace with your file path\nprint_file_content(file_path)",
      "metadata": {
        "trusted": true
      },
      "outputs": [
        {
          "name": "stdout",
          "output_type": "stream",
          "text": "File Content:\n\nThis is the new data being appended.\n"
        }
      ],
      "execution_count": 34
    },
    {
      "id": "9ac4f866-ddde-448d-826d-14c235351148",
      "cell_type": "markdown",
      "source": "Q16. Demonstrate how to use memory profiling to check the memory usage of a small program",
      "metadata": {}
    },
    {
      "id": "d85a6930-0f85-40ca-90a9-10df3a852613",
      "cell_type": "code",
      "source": "# Install the memory_profiler package before running this code\n# pip install memory-profiler\n\nfrom memory_profiler import profile\n\n@profile\ndef memory_intensive_function():\n    # Example of a memory-intensive operation\n    large_list = [i for i in range(1000000)]  # Creating a large list\n    return sum(large_list)\n\nif __name__ == \"__main__\":\n    memory_intensive_function()",
      "metadata": {
        "trusted": true
      },
      "outputs": [
        {
          "ename": "<class 'ModuleNotFoundError'>",
          "evalue": "No module named 'memory_profiler'",
          "traceback": [
            "\u001b[0;31m---------------------------------------------------------------------------\u001b[0m",
            "\u001b[0;31mModuleNotFoundError\u001b[0m                       Traceback (most recent call last)",
            "Cell \u001b[0;32mIn[38], line 4\u001b[0m\n\u001b[1;32m      1\u001b[0m \u001b[38;5;66;03m# Install the memory_profiler package before running this code\u001b[39;00m\n\u001b[1;32m      2\u001b[0m \u001b[38;5;66;03m# pip install memory-profiler\u001b[39;00m\n\u001b[0;32m----> 4\u001b[0m \u001b[38;5;28;01mfrom\u001b[39;00m \u001b[38;5;21;01mmemory_profiler\u001b[39;00m \u001b[38;5;28;01mimport\u001b[39;00m profile\n\u001b[1;32m      6\u001b[0m \u001b[38;5;129m@profile\u001b[39m\n\u001b[1;32m      7\u001b[0m \u001b[38;5;28;01mdef\u001b[39;00m \u001b[38;5;21mmemory_intensive_function\u001b[39m():\n\u001b[1;32m      8\u001b[0m     \u001b[38;5;66;03m# Example of a memory-intensive operation\u001b[39;00m\n\u001b[1;32m      9\u001b[0m     large_list \u001b[38;5;241m=\u001b[39m [i \u001b[38;5;28;01mfor\u001b[39;00m i \u001b[38;5;129;01min\u001b[39;00m \u001b[38;5;28mrange\u001b[39m(\u001b[38;5;241m1000000\u001b[39m)]  \u001b[38;5;66;03m# Creating a large list\u001b[39;00m\n",
            "\u001b[0;31mModuleNotFoundError\u001b[0m: No module named 'memory_profiler'"
          ],
          "output_type": "error"
        }
      ],
      "execution_count": 39
    },
    {
      "id": "366fe29b-0fbc-481e-bcad-33527ae0b20a",
      "cell_type": "markdown",
      "source": "Q17. Write a Python program to create and write a list of numbers to a file, one number per line ",
      "metadata": {}
    },
    {
      "id": "84432a6c-edf8-43fc-a3ad-5aa65f61aa2a",
      "cell_type": "code",
      "source": "# Python program to create and write a list of numbers to a file, one number per line\n\ndef write_numbers_to_file(file_path, numbers):\n    try:\n        # Open the file in write mode\n        with open(file_path, 'w') as file:\n            for number in numbers:\n                file.write(f\"{number}\\n\")  # Write each number followed by a newline\n        print(f\"Numbers successfully written to {file_path}\")\n    except Exception as e:\n        print(f\"An error occurred: {e}\")\n\n# Example usage\nnumbers = [1, 2, 3, 4, 5, 6, 7, 8, 9, 10]  # List of numbers\nfile_path = \"numbers.txt\"  # File to write the numbers\nwrite_numbers_to_file(file_path, numbers)",
      "metadata": {
        "trusted": true
      },
      "outputs": [
        {
          "name": "stdout",
          "output_type": "stream",
          "text": "Numbers successfully written to numbers.txt\n"
        }
      ],
      "execution_count": 40
    },
    {
      "id": "137d15e6-7f4d-456e-a503-b83b0c5931cc",
      "cell_type": "markdown",
      "source": "Q18. How would you implement a basic logging setup that logs to a file with rotation after 1MB\u001f",
      "metadata": {}
    },
    {
      "id": "c7f3b63b-ea7c-4503-ac02-9323ca0a9688",
      "cell_type": "code",
      "source": "import logging\nfrom logging.handlers import RotatingFileHandler\n\n# Define the logger\nlogger = logging.getLogger(\"MyLogger\")\nlogger.setLevel(logging.DEBUG)  # Set the logging level\n\n# Create a RotatingFileHandler\nhandler = RotatingFileHandler(\n    \"app.log\",  # Log file name\n    maxBytes=1 * 1024 * 1024,  # 1MB size limit\n    backupCount=5  # Keep up to 5 backup files\n)\n\n# Define the log format\nformatter = logging.Formatter(\n    \"%(asctime)s - %(name)s - %(levelname)s - %(message)s\"\n)\nhandler.setFormatter(formatter)\n\n# Add the handler to the logger\nlogger.addHandler(handler)\n\n# Example usage\nlogger.debug(\"This is a debug message\")\nlogger.info(\"This is an info message\")\nlogger.warning(\"This is a warning message\")\nlogger.error(\"This is an error message\")\nlogger.critical(\"This is a critical message\")",
      "metadata": {
        "trusted": true
      },
      "outputs": [],
      "execution_count": 41
    },
    {
      "id": "425ad0f8-008d-47fb-8000-2959f33ec1ad",
      "cell_type": "markdown",
      "source": "Q19. Write a program that handles both IndexError and KeyError using a try-except block",
      "metadata": {}
    },
    {
      "id": "d834f1c5-aaef-421a-b0ef-83c85f1be49d",
      "cell_type": "code",
      "source": "try:\n    # Code that may raise IndexError\n    my_list = [1, 2, 3]\n    print(my_list[5])  # This will raise an IndexError\n\n    # Code that may raise KeyError\n    my_dict = {\"a\": 1, \"b\": 2}\n    print(my_dict[\"c\"])  # This will raise a KeyError\n\nexcept IndexError as e:\n    print(f\"IndexError occurred: {e}\")\n\nexcept KeyError as e:\n    print(f\"KeyError occurred: {e}\")",
      "metadata": {
        "trusted": true
      },
      "outputs": [
        {
          "name": "stdout",
          "output_type": "stream",
          "text": "IndexError occurred: list index out of range\n"
        }
      ],
      "execution_count": 42
    },
    {
      "id": "72d245b0-d400-45f3-8e37-943ebf1194d0",
      "cell_type": "markdown",
      "source": "Q20. How would you open a file and read its contents using a context manager in Python",
      "metadata": {}
    },
    {
      "id": "e76a5ccd-d019-4b2c-8006-b8ab3e7c6fb5",
      "cell_type": "code",
      "source": "# Open the file using a context manager\nwith open(\"filename.txt\", \"r\") as file:\n    # Read the contents of the file\n    contents = file.read()\n\n# Print the contents\nprint(contents)",
      "metadata": {
        "trusted": true
      },
      "outputs": [
        {
          "name": "stdout",
          "output_type": "stream",
          "text": "\nThis is the new data being appended.\n"
        }
      ],
      "execution_count": 43
    },
    {
      "id": "01b7e38a-2ce6-4b0d-93d2-0d6f00d3c6e1",
      "cell_type": "markdown",
      "source": "Q21.  Write a Python program that reads a file and prints the number of occurrences of a specific word",
      "metadata": {}
    },
    {
      "id": "640609b9-9715-4366-94b8-dd9e4b4d8846",
      "cell_type": "code",
      "source": "# Python program to read a file and count occurrences of a specific word\n\n# Define the file name and the word to search for\nfile_name = \"filename.txt\"\nword_to_search = \"specific_word\"\n\n# Initialize a counter\nword_count = 0\n\n# Open the file using a context manager\nwith open(file_name, \"r\") as file:\n    # Read the file line by line\n    for line in file:\n        # Split the line into words\n        words = line.split()\n        # Count occurrences of the specific word in the current line\n        word_count += words.count(word_to_search)\n\n# Print the result\nprint(f\"The word '{word_to_search}' occurred {word_count} times in the file.\")",
      "metadata": {
        "trusted": true
      },
      "outputs": [
        {
          "name": "stdout",
          "output_type": "stream",
          "text": "The word 'specific_word' occurred 0 times in the file.\n"
        }
      ],
      "execution_count": 44
    },
    {
      "id": "58fcef56-0f74-4e27-a71b-529398079c38",
      "cell_type": "markdown",
      "source": "Q22. How can you check if a file is empty before attempting to read its contents?",
      "metadata": {}
    },
    {
      "id": "4d0e54d7-ed37-42b7-b82a-26fc78890639",
      "cell_type": "code",
      "source": "import os\n\n# Specify the file name\nfile_name = \"filename.txt\"\n\n# Check if the file is empty\nif os.path.exists(file_name) and os.path.getsize(file_name) == 0:\n    print(f\"The file '{file_name}' is empty.\")\nelse:\n    print(f\"The file '{file_name}' is not empty.\")",
      "metadata": {
        "trusted": true
      },
      "outputs": [
        {
          "name": "stdout",
          "output_type": "stream",
          "text": "The file 'filename.txt' is not empty.\n"
        }
      ],
      "execution_count": 45
    },
    {
      "id": "3eac486c-8623-4f17-b3fd-8fb528bcabb3",
      "cell_type": "markdown",
      "source": "Q23. Write a Python program that writes to a log file when an error occurs during file handling",
      "metadata": {}
    },
    {
      "id": "ee7f62f7-d453-4f7d-9bd6-cafb0f536be8",
      "cell_type": "code",
      "source": "import logging\n\n# Configure logging\nlogging.basicConfig(filename='error_log.log', level=logging.ERROR, \n                    format='%(asctime)s - %(levelname)s - %(message)s')\n\ntry:\n    # Attempt to open a file that may not exist\n    with open('non_existent_file.txt', 'r') as file:\n        content = file.read()\nexcept FileNotFoundError as e:\n    # Log the error if the file is not found\n    logging.error(f\"File not found: {e}\")\n    print(\"An error occurred. Check the log file for details.\")\nexcept Exception as e:\n    # Log any other exceptions\n    logging.error(f\"An unexpected error occurred: {e}\")\n    print(\"An unexpected error occurred. Check the log file for details.\")",
      "metadata": {
        "trusted": true
      },
      "outputs": [
        {
          "name": "stdout",
          "output_type": "stream",
          "text": "An error occurred. Check the log file for details.\n"
        }
      ],
      "execution_count": 46
    },
    {
      "id": "d9f6e73e-fbc5-4b37-8833-cceea6a96873",
      "cell_type": "code",
      "source": "",
      "metadata": {
        "trusted": true
      },
      "outputs": [],
      "execution_count": null
    },
    {
      "id": "ec158e04-c0ed-4804-822d-5d671fd7a3aa",
      "cell_type": "code",
      "source": "",
      "metadata": {
        "trusted": true
      },
      "outputs": [],
      "execution_count": null
    },
    {
      "id": "0bbe74ee-5aa5-4930-84c6-a7ff78c6817e",
      "cell_type": "code",
      "source": "",
      "metadata": {
        "trusted": true
      },
      "outputs": [],
      "execution_count": null
    },
    {
      "id": "9d54ea9c-298b-450e-8f80-e51d7bdb30ad",
      "cell_type": "code",
      "source": "",
      "metadata": {
        "trusted": true
      },
      "outputs": [],
      "execution_count": null
    },
    {
      "id": "d62cf810-ae5b-4cfe-bb31-9050f6b179ba",
      "cell_type": "code",
      "source": "",
      "metadata": {
        "trusted": true
      },
      "outputs": [],
      "execution_count": null
    }
  ]
}